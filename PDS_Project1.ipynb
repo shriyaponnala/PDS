{
 "cells": [
  {
   "cell_type": "markdown",
   "id": "881c2b0c",
   "metadata": {},
   "source": [
    "# INSTRUCTIONS \n",
    "\n",
    "Because time is short, this homework is graded as mostly extra credit. \n",
    "\n",
    "You will score one point for using the correct file name, and one extra credit point for each model you run below.\n",
    "\n",
    "Follow the prompts in the attached jupyter notebook. \n",
    "Download the data and place it in your working directory, or modify the path to upload it to your notebook. \n",
    "Add markdown cells to your analysis to include your solutions, comments, answers. \n",
    "**Add as many cells as you need**. For easy readability comment when possible.\n"
   ]
  },
  {
   "cell_type": "markdown",
   "id": "b4f4c1f0",
   "metadata": {},
   "source": [
    "**Title: 1985 Auto Imports Database**\n",
    "\n",
    "Relevant Information:\n",
    "   -- Description\n",
    "      This data set consists of three types of entities: (a) the\n",
    "      specification of an auto in terms of various characteristics, (b)\n",
    "      its assigned insurance risk rating, (c) its normalized losses in use\n",
    "      as compared to other cars.  The second rating corresponds to the\n",
    "      degree to which the auto is more risky than its price indicates.\n",
    "      Cars are initially assigned a risk factor symbol associated with its\n",
    "      price.   Then, if it is more risky (or less), this symbol is\n",
    "      adjusted by moving it up (or down) the scale.  Actuarians call this\n",
    "      process \"symboling\".  A value of +3 indicates that the auto is\n",
    "      risky, -3 that it is probably pretty safe.\n",
    "\n",
    "      The third factor is the relative average loss payment per insured\n",
    "      vehicle year.  This value is normalized for all autos within a\n",
    "      particular size classification (two-door small, station wagons,\n",
    "      sports/speciality, etc...), and represents the average loss per car\n",
    "      per year.\n",
    "\n",
    "   -- Note: Several of the attributes in the database could be used as a\n",
    "            \"class\" attribute.\n",
    "\n",
    "5. Number of Instances: 205\n",
    "\n",
    "6. Number of Attributes: 26 total\n",
    "   -- 15 continuous\n",
    "   -- 1 integer\n",
    "   -- 10 nominal\n",
    "\n",
    "7. Attribute Information:     \n",
    "     Attribute:                Attribute Range:\n",
    "     ------------------        -----------------------------------------------\n",
    "  1. symboling:                -3, -2, -1, 0, 1, 2, 3.\n",
    "  2. normalized-losses:        continuous from 65 to 256.\n",
    "  3. make:                     alfa-romero, audi, bmw, chevrolet, dodge, honda,isuzu, jaguar, mazda, mercedes-benz, mercury, mitsubishi, nissan, peugot, plymouth, porsche, renault, saab, subaru, toyota,volkswagen, volvo\n",
    "  4. fuel-type:                diesel, gas.\n",
    "  5. aspiration:               std, turbo.\n",
    "  6. num-of-doors:             four, two.\n",
    "  7. body-style:               hardtop, wagon, sedan, hatchback, convertible.\n",
    "  8. drive-wheels:             4wd, fwd, rwd.\n",
    "  9. engine-location:          front, rear.\n",
    " 10. wheel-base:               continuous from 86.6 120.9.\n",
    " 11. length:                   continuous from 141.1 to 208.1.\n",
    " 12. width:                    continuous from 60.3 to 72.3.\n",
    " 13. height:                   continuous from 47.8 to 59.8.\n",
    " 14. curb-weight:              continuous from 1488 to 4066.\n",
    " 15. engine-type:              dohc, dohcv, l, ohc, ohcf, ohcv, rotor.\n",
    " 16. num-of-cylinders:         eight, five, four, six, three, twelve, two.\n",
    " 17. engine-size:              continuous from 61 to 326.\n",
    " 18. fuel-system:              1bbl, 2bbl, 4bbl, idi, mfi, mpfi, spdi, spfi.\n",
    " 19. bore:                     continuous from 2.54 to 3.94.\n",
    " 20. stroke:                   continuous from 2.07 to 4.17.\n",
    " 21. compression-ratio:        continuous from 7 to 23.\n",
    " 22. horsepower:               continuous from 48 to 288.\n",
    " 23. peak-rpm:                 continuous from 4150 to 6600.\n",
    " 24. city-mpg:                 continuous from 13 to 49.\n",
    " 25. highway-mpg:              continuous from 16 to 54.\n",
    " 26. price:                    continuous from 5118 to 45400.\n",
    "\n",
    "8. Missing Attribute Values: (denoted by \"?\")"
   ]
  },
  {
   "cell_type": "markdown",
   "id": "18886119",
   "metadata": {},
   "source": [
    "## Note: It may be necessary to install the mlxtend package before the \"plot_confusion_matrix\". \n",
    "\n",
    "\"conda install -c conda-forge mlxtend\" should do it, or see: https://anaconda.org/conda-forge/mlxtend\n",
    "\n",
    "As originally presented, the homework followed previous ones where the data wrangling was performed. The data wrangling is done for you here, and is not part of the homework."
   ]
  },
  {
   "cell_type": "code",
   "execution_count": 2,
   "id": "848fefc6",
   "metadata": {},
   "outputs": [
    {
     "name": "stdout",
     "output_type": "stream",
     "text": [
      "Collecting mlxtend\n",
      "  Obtaining dependency information for mlxtend from https://files.pythonhosted.org/packages/73/da/d5d77a9a7a135c948dbf8d3b873655b105a152d69e590150c83d23c3d070/mlxtend-0.23.0-py3-none-any.whl.metadata\n",
      "  Downloading mlxtend-0.23.0-py3-none-any.whl.metadata (7.3 kB)\n",
      "Requirement already satisfied: scipy>=1.2.1 in /Users/PC/anaconda3/lib/python3.11/site-packages (from mlxtend) (1.10.1)\n",
      "Requirement already satisfied: numpy>=1.16.2 in /Users/PC/anaconda3/lib/python3.11/site-packages (from mlxtend) (1.24.3)\n",
      "Requirement already satisfied: pandas>=0.24.2 in /Users/PC/anaconda3/lib/python3.11/site-packages (from mlxtend) (1.5.3)\n",
      "Requirement already satisfied: scikit-learn>=1.0.2 in /Users/PC/anaconda3/lib/python3.11/site-packages (from mlxtend) (1.3.0)\n",
      "Requirement already satisfied: matplotlib>=3.0.0 in /Users/PC/anaconda3/lib/python3.11/site-packages (from mlxtend) (3.7.1)\n",
      "Requirement already satisfied: joblib>=0.13.2 in /Users/PC/anaconda3/lib/python3.11/site-packages (from mlxtend) (1.2.0)\n",
      "Requirement already satisfied: contourpy>=1.0.1 in /Users/PC/anaconda3/lib/python3.11/site-packages (from matplotlib>=3.0.0->mlxtend) (1.0.5)\n",
      "Requirement already satisfied: cycler>=0.10 in /Users/PC/anaconda3/lib/python3.11/site-packages (from matplotlib>=3.0.0->mlxtend) (0.11.0)\n",
      "Requirement already satisfied: fonttools>=4.22.0 in /Users/PC/anaconda3/lib/python3.11/site-packages (from matplotlib>=3.0.0->mlxtend) (4.25.0)\n",
      "Requirement already satisfied: kiwisolver>=1.0.1 in /Users/PC/anaconda3/lib/python3.11/site-packages (from matplotlib>=3.0.0->mlxtend) (1.4.4)\n",
      "Requirement already satisfied: packaging>=20.0 in /Users/PC/anaconda3/lib/python3.11/site-packages (from matplotlib>=3.0.0->mlxtend) (23.0)\n",
      "Requirement already satisfied: pillow>=6.2.0 in /Users/PC/anaconda3/lib/python3.11/site-packages (from matplotlib>=3.0.0->mlxtend) (9.4.0)\n",
      "Requirement already satisfied: pyparsing>=2.3.1 in /Users/PC/anaconda3/lib/python3.11/site-packages (from matplotlib>=3.0.0->mlxtend) (3.0.9)\n",
      "Requirement already satisfied: python-dateutil>=2.7 in /Users/PC/anaconda3/lib/python3.11/site-packages (from matplotlib>=3.0.0->mlxtend) (2.8.2)\n",
      "Requirement already satisfied: pytz>=2020.1 in /Users/PC/anaconda3/lib/python3.11/site-packages (from pandas>=0.24.2->mlxtend) (2022.7)\n",
      "Requirement already satisfied: threadpoolctl>=2.0.0 in /Users/PC/anaconda3/lib/python3.11/site-packages (from scikit-learn>=1.0.2->mlxtend) (2.2.0)\n",
      "Requirement already satisfied: six>=1.5 in /Users/PC/anaconda3/lib/python3.11/site-packages (from python-dateutil>=2.7->matplotlib>=3.0.0->mlxtend) (1.16.0)\n",
      "Downloading mlxtend-0.23.0-py3-none-any.whl (1.4 MB)\n",
      "\u001b[2K   \u001b[90m━━━━━━━━━━━━━━━━━━━━━━━━━━━━━━━━━━━━━━━━\u001b[0m \u001b[32m1.4/1.4 MB\u001b[0m \u001b[31m12.3 MB/s\u001b[0m eta \u001b[36m0:00:00\u001b[0ma \u001b[36m0:00:01\u001b[0m\n",
      "\u001b[?25hInstalling collected packages: mlxtend\n",
      "Successfully installed mlxtend-0.23.0\n"
     ]
    }
   ],
   "source": [
    "!pip install mlxtend"
   ]
  },
  {
   "cell_type": "code",
   "execution_count": 59,
   "id": "cd0f90ba",
   "metadata": {},
   "outputs": [
    {
     "name": "stdout",
     "output_type": "stream",
     "text": [
      "done\n"
     ]
    }
   ],
   "source": [
    "from scipy import stats\n",
    "from sklearn.linear_model import LinearRegression\n",
    "from statsmodels.compat import lzip\n",
    "from statsmodels.formula.api import ols\n",
    "from statsmodels.stats.anova import anova_lm\n",
    "from statsmodels.stats.outliers_influence import variance_inflation_factor\n",
    "import matplotlib\n",
    "import matplotlib.pyplot as plt\n",
    "import numpy as np\n",
    "import pandas as pd\n",
    "import seaborn as sns\n",
    "import statsmodels.api as sm\n",
    "from numpy import where\n",
    "from collections import Counter\n",
    "from sklearn.datasets import make_blobs\n",
    "from matplotlib import pyplot\n",
    "from sklearn.ensemble import RandomForestClassifier\n",
    "from sklearn.model_selection import train_test_split, GridSearchCV\n",
    "from sklearn import metrics\n",
    "from sklearn.metrics import roc_auc_score\n",
    "from sklearn.metrics import roc_curve\n",
    "from sklearn.datasets import make_classification\n",
    "from sklearn.model_selection import train_test_split\n",
    "from sklearn.metrics import f1_score\n",
    "from sklearn.covariance import EllipticEnvelope\n",
    "from sklearn.ensemble import IsolationForest\n",
    "from sklearn.svm import OneClassSVM\n",
    "from sklearn.metrics import auc\n",
    "from sklearn.model_selection import cross_val_score\n",
    "from sklearn.model_selection import RepeatedStratifiedKFold\n",
    "from sklearn.svm import SVC\n",
    "from sklearn import svm\n",
    "from sklearn.linear_model import LogisticRegression\n",
    "from sklearn.feature_selection import RFE\n",
    "from sklearn.naive_bayes import GaussianNB\n",
    "from sklearn.metrics import accuracy_score\n",
    "from sklearn.preprocessing import StandardScaler \n",
    "from sklearn.neighbors import KNeighborsClassifier\n",
    "from sklearn.metrics import classification_report, confusion_matrix\n",
    "from collections import Counter\n",
    "from sklearn.dummy import DummyClassifier\n",
    "from mlxtend.plotting import plot_confusion_matrix\n",
    "import matplotlib.pyplot as plt\n",
    "import seaborn as sns\n",
    "%matplotlib inline\n",
    "\n",
    "from numpy import mean\n",
    "print (\"done\")\n",
    "\n",
    "%matplotlib inline"
   ]
  },
  {
   "cell_type": "code",
   "execution_count": 60,
   "id": "6b9fa984",
   "metadata": {
    "scrolled": true
   },
   "outputs": [
    {
     "data": {
      "text/html": [
       "<div>\n",
       "<style scoped>\n",
       "    .dataframe tbody tr th:only-of-type {\n",
       "        vertical-align: middle;\n",
       "    }\n",
       "\n",
       "    .dataframe tbody tr th {\n",
       "        vertical-align: top;\n",
       "    }\n",
       "\n",
       "    .dataframe thead th {\n",
       "        text-align: right;\n",
       "    }\n",
       "</style>\n",
       "<table border=\"1\" class=\"dataframe\">\n",
       "  <thead>\n",
       "    <tr style=\"text-align: right;\">\n",
       "      <th></th>\n",
       "      <th>fuel_type</th>\n",
       "      <th>body</th>\n",
       "      <th>wheel_base</th>\n",
       "      <th>length</th>\n",
       "      <th>width</th>\n",
       "      <th>heights</th>\n",
       "      <th>curb_weight</th>\n",
       "      <th>engine_type</th>\n",
       "      <th>cylinders</th>\n",
       "      <th>engine_size</th>\n",
       "      <th>bore</th>\n",
       "      <th>stroke</th>\n",
       "      <th>compression</th>\n",
       "      <th>horse_power</th>\n",
       "      <th>peak_rpm</th>\n",
       "      <th>city_mpg</th>\n",
       "      <th>highway_mpg</th>\n",
       "      <th>price</th>\n",
       "    </tr>\n",
       "  </thead>\n",
       "  <tbody>\n",
       "    <tr>\n",
       "      <th>0</th>\n",
       "      <td>gas</td>\n",
       "      <td>convertible</td>\n",
       "      <td>88.6</td>\n",
       "      <td>168.8</td>\n",
       "      <td>64.1</td>\n",
       "      <td>48.8</td>\n",
       "      <td>2548</td>\n",
       "      <td>dohc</td>\n",
       "      <td>four</td>\n",
       "      <td>130</td>\n",
       "      <td>3.47</td>\n",
       "      <td>2.68</td>\n",
       "      <td>9.0</td>\n",
       "      <td>111</td>\n",
       "      <td>5000</td>\n",
       "      <td>21</td>\n",
       "      <td>27</td>\n",
       "      <td>13495</td>\n",
       "    </tr>\n",
       "    <tr>\n",
       "      <th>1</th>\n",
       "      <td>gas</td>\n",
       "      <td>convertible</td>\n",
       "      <td>88.6</td>\n",
       "      <td>168.8</td>\n",
       "      <td>64.1</td>\n",
       "      <td>48.8</td>\n",
       "      <td>2548</td>\n",
       "      <td>dohc</td>\n",
       "      <td>four</td>\n",
       "      <td>130</td>\n",
       "      <td>3.47</td>\n",
       "      <td>2.68</td>\n",
       "      <td>9.0</td>\n",
       "      <td>111</td>\n",
       "      <td>5000</td>\n",
       "      <td>21</td>\n",
       "      <td>27</td>\n",
       "      <td>16500</td>\n",
       "    </tr>\n",
       "    <tr>\n",
       "      <th>2</th>\n",
       "      <td>gas</td>\n",
       "      <td>hatchback</td>\n",
       "      <td>94.5</td>\n",
       "      <td>171.2</td>\n",
       "      <td>65.5</td>\n",
       "      <td>52.4</td>\n",
       "      <td>2823</td>\n",
       "      <td>ohcv</td>\n",
       "      <td>six</td>\n",
       "      <td>152</td>\n",
       "      <td>2.68</td>\n",
       "      <td>3.47</td>\n",
       "      <td>9.0</td>\n",
       "      <td>154</td>\n",
       "      <td>5000</td>\n",
       "      <td>19</td>\n",
       "      <td>26</td>\n",
       "      <td>16500</td>\n",
       "    </tr>\n",
       "    <tr>\n",
       "      <th>3</th>\n",
       "      <td>gas</td>\n",
       "      <td>sedan</td>\n",
       "      <td>99.8</td>\n",
       "      <td>176.6</td>\n",
       "      <td>66.2</td>\n",
       "      <td>54.3</td>\n",
       "      <td>2337</td>\n",
       "      <td>ohc</td>\n",
       "      <td>four</td>\n",
       "      <td>109</td>\n",
       "      <td>3.19</td>\n",
       "      <td>3.4</td>\n",
       "      <td>10.0</td>\n",
       "      <td>102</td>\n",
       "      <td>5500</td>\n",
       "      <td>24</td>\n",
       "      <td>30</td>\n",
       "      <td>13950</td>\n",
       "    </tr>\n",
       "    <tr>\n",
       "      <th>4</th>\n",
       "      <td>gas</td>\n",
       "      <td>sedan</td>\n",
       "      <td>99.4</td>\n",
       "      <td>176.6</td>\n",
       "      <td>66.4</td>\n",
       "      <td>54.3</td>\n",
       "      <td>2824</td>\n",
       "      <td>ohc</td>\n",
       "      <td>five</td>\n",
       "      <td>136</td>\n",
       "      <td>3.19</td>\n",
       "      <td>3.4</td>\n",
       "      <td>8.0</td>\n",
       "      <td>115</td>\n",
       "      <td>5500</td>\n",
       "      <td>18</td>\n",
       "      <td>22</td>\n",
       "      <td>17450</td>\n",
       "    </tr>\n",
       "  </tbody>\n",
       "</table>\n",
       "</div>"
      ],
      "text/plain": [
       "  fuel_type         body  wheel_base  length  width  heights  curb_weight  \\\n",
       "0       gas  convertible        88.6   168.8   64.1     48.8         2548   \n",
       "1       gas  convertible        88.6   168.8   64.1     48.8         2548   \n",
       "2       gas    hatchback        94.5   171.2   65.5     52.4         2823   \n",
       "3       gas        sedan        99.8   176.6   66.2     54.3         2337   \n",
       "4       gas        sedan        99.4   176.6   66.4     54.3         2824   \n",
       "\n",
       "  engine_type cylinders  engine_size  bore stroke  compression horse_power  \\\n",
       "0        dohc      four          130  3.47   2.68          9.0         111   \n",
       "1        dohc      four          130  3.47   2.68          9.0         111   \n",
       "2        ohcv       six          152  2.68   3.47          9.0         154   \n",
       "3         ohc      four          109  3.19    3.4         10.0         102   \n",
       "4         ohc      five          136  3.19    3.4          8.0         115   \n",
       "\n",
       "  peak_rpm  city_mpg  highway_mpg  price  \n",
       "0     5000        21           27  13495  \n",
       "1     5000        21           27  16500  \n",
       "2     5000        19           26  16500  \n",
       "3     5500        24           30  13950  \n",
       "4     5500        18           22  17450  "
      ]
     },
     "execution_count": 60,
     "metadata": {},
     "output_type": "execute_result"
    }
   ],
   "source": [
    "#Read in data\n",
    "df =pd.read_csv('auto_imports1.csv')\n",
    "\n",
    "df.head()"
   ]
  },
  {
   "cell_type": "markdown",
   "id": "c75b0353",
   "metadata": {},
   "source": [
    "# Data Wrangling"
   ]
  },
  {
   "cell_type": "markdown",
   "id": "f2e0a2aa",
   "metadata": {},
   "source": [
    "### Check what types of variables do you have in your data? Do you see anything that doesn't make sense? *Hint: horse power is  an object ?!*"
   ]
  },
  {
   "cell_type": "code",
   "execution_count": 61,
   "id": "31653e17",
   "metadata": {},
   "outputs": [
    {
     "name": "stdout",
     "output_type": "stream",
     "text": [
      "<class 'pandas.core.frame.DataFrame'>\n",
      "RangeIndex: 201 entries, 0 to 200\n",
      "Data columns (total 18 columns):\n",
      " #   Column       Non-Null Count  Dtype  \n",
      "---  ------       --------------  -----  \n",
      " 0   fuel_type    201 non-null    object \n",
      " 1   body         201 non-null    object \n",
      " 2   wheel_base   201 non-null    float64\n",
      " 3   length       201 non-null    float64\n",
      " 4   width        201 non-null    float64\n",
      " 5   heights      201 non-null    float64\n",
      " 6   curb_weight  201 non-null    int64  \n",
      " 7   engine_type  201 non-null    object \n",
      " 8   cylinders    201 non-null    object \n",
      " 9   engine_size  201 non-null    int64  \n",
      " 10  bore         201 non-null    object \n",
      " 11  stroke       201 non-null    object \n",
      " 12  compression  201 non-null    float64\n",
      " 13  horse_power  201 non-null    object \n",
      " 14  peak_rpm     201 non-null    object \n",
      " 15  city_mpg     201 non-null    int64  \n",
      " 16  highway_mpg  201 non-null    int64  \n",
      " 17  price        201 non-null    int64  \n",
      "dtypes: float64(5), int64(5), object(8)\n",
      "memory usage: 28.4+ KB\n"
     ]
    }
   ],
   "source": [
    "\n",
    "df.info()"
   ]
  },
  {
   "cell_type": "markdown",
   "id": "ffb04abb",
   "metadata": {},
   "source": [
    "### Replace '?' with None"
   ]
  },
  {
   "cell_type": "code",
   "execution_count": 62,
   "id": "d704b1e5",
   "metadata": {},
   "outputs": [],
   "source": [
    "df.replace({'?': None},inplace =True)"
   ]
  },
  {
   "cell_type": "markdown",
   "id": "5740c85b",
   "metadata": {},
   "source": [
    "### Change the variables: bore, stroke, horse_power, peak_rpm to float64"
   ]
  },
  {
   "cell_type": "code",
   "execution_count": 63,
   "id": "44e48a11",
   "metadata": {},
   "outputs": [],
   "source": [
    "## Your code here\n",
    "df[['bore', 'stroke', 'horse_power', 'peak_rpm']] = df[['bore', 'stroke', 'horse_power', 'peak_rpm']].apply(pd.to_numeric, axis = 1)"
   ]
  },
  {
   "cell_type": "code",
   "execution_count": 64,
   "id": "679c62b9",
   "metadata": {},
   "outputs": [
    {
     "name": "stdout",
     "output_type": "stream",
     "text": [
      "<class 'pandas.core.frame.DataFrame'>\n",
      "RangeIndex: 201 entries, 0 to 200\n",
      "Data columns (total 18 columns):\n",
      " #   Column       Non-Null Count  Dtype  \n",
      "---  ------       --------------  -----  \n",
      " 0   fuel_type    201 non-null    object \n",
      " 1   body         201 non-null    object \n",
      " 2   wheel_base   201 non-null    float64\n",
      " 3   length       201 non-null    float64\n",
      " 4   width        201 non-null    float64\n",
      " 5   heights      201 non-null    float64\n",
      " 6   curb_weight  201 non-null    int64  \n",
      " 7   engine_type  201 non-null    object \n",
      " 8   cylinders    201 non-null    object \n",
      " 9   engine_size  201 non-null    int64  \n",
      " 10  bore         197 non-null    float64\n",
      " 11  stroke       197 non-null    float64\n",
      " 12  compression  201 non-null    float64\n",
      " 13  horse_power  199 non-null    float64\n",
      " 14  peak_rpm     199 non-null    float64\n",
      " 15  city_mpg     201 non-null    int64  \n",
      " 16  highway_mpg  201 non-null    int64  \n",
      " 17  price        201 non-null    int64  \n",
      "dtypes: float64(9), int64(5), object(4)\n",
      "memory usage: 28.4+ KB\n"
     ]
    }
   ],
   "source": [
    "df.info()"
   ]
  },
  {
   "cell_type": "markdown",
   "id": "1fb13a45",
   "metadata": {},
   "source": [
    "### Drop body,engine_type,cylinders columns and name the new dataframe df2"
   ]
  },
  {
   "cell_type": "code",
   "execution_count": 65,
   "id": "e376ebf3",
   "metadata": {},
   "outputs": [],
   "source": [
    "## Your code here\n",
    "df2=df.drop(['body','engine_type','cylinders'], axis=1)\n",
    "#df2=df.copy()"
   ]
  },
  {
   "cell_type": "code",
   "execution_count": 66,
   "id": "2da1338f",
   "metadata": {},
   "outputs": [
    {
     "data": {
      "text/html": [
       "<div>\n",
       "<style scoped>\n",
       "    .dataframe tbody tr th:only-of-type {\n",
       "        vertical-align: middle;\n",
       "    }\n",
       "\n",
       "    .dataframe tbody tr th {\n",
       "        vertical-align: top;\n",
       "    }\n",
       "\n",
       "    .dataframe thead th {\n",
       "        text-align: right;\n",
       "    }\n",
       "</style>\n",
       "<table border=\"1\" class=\"dataframe\">\n",
       "  <thead>\n",
       "    <tr style=\"text-align: right;\">\n",
       "      <th></th>\n",
       "      <th>fuel_type</th>\n",
       "      <th>wheel_base</th>\n",
       "      <th>length</th>\n",
       "      <th>width</th>\n",
       "      <th>heights</th>\n",
       "      <th>curb_weight</th>\n",
       "      <th>engine_size</th>\n",
       "      <th>bore</th>\n",
       "      <th>stroke</th>\n",
       "      <th>compression</th>\n",
       "      <th>horse_power</th>\n",
       "      <th>peak_rpm</th>\n",
       "      <th>city_mpg</th>\n",
       "      <th>highway_mpg</th>\n",
       "      <th>price</th>\n",
       "    </tr>\n",
       "  </thead>\n",
       "  <tbody>\n",
       "    <tr>\n",
       "      <th>0</th>\n",
       "      <td>gas</td>\n",
       "      <td>88.6</td>\n",
       "      <td>168.8</td>\n",
       "      <td>64.1</td>\n",
       "      <td>48.8</td>\n",
       "      <td>2548</td>\n",
       "      <td>130</td>\n",
       "      <td>3.47</td>\n",
       "      <td>2.68</td>\n",
       "      <td>9.0</td>\n",
       "      <td>111.0</td>\n",
       "      <td>5000.0</td>\n",
       "      <td>21</td>\n",
       "      <td>27</td>\n",
       "      <td>13495</td>\n",
       "    </tr>\n",
       "    <tr>\n",
       "      <th>1</th>\n",
       "      <td>gas</td>\n",
       "      <td>88.6</td>\n",
       "      <td>168.8</td>\n",
       "      <td>64.1</td>\n",
       "      <td>48.8</td>\n",
       "      <td>2548</td>\n",
       "      <td>130</td>\n",
       "      <td>3.47</td>\n",
       "      <td>2.68</td>\n",
       "      <td>9.0</td>\n",
       "      <td>111.0</td>\n",
       "      <td>5000.0</td>\n",
       "      <td>21</td>\n",
       "      <td>27</td>\n",
       "      <td>16500</td>\n",
       "    </tr>\n",
       "    <tr>\n",
       "      <th>2</th>\n",
       "      <td>gas</td>\n",
       "      <td>94.5</td>\n",
       "      <td>171.2</td>\n",
       "      <td>65.5</td>\n",
       "      <td>52.4</td>\n",
       "      <td>2823</td>\n",
       "      <td>152</td>\n",
       "      <td>2.68</td>\n",
       "      <td>3.47</td>\n",
       "      <td>9.0</td>\n",
       "      <td>154.0</td>\n",
       "      <td>5000.0</td>\n",
       "      <td>19</td>\n",
       "      <td>26</td>\n",
       "      <td>16500</td>\n",
       "    </tr>\n",
       "    <tr>\n",
       "      <th>3</th>\n",
       "      <td>gas</td>\n",
       "      <td>99.8</td>\n",
       "      <td>176.6</td>\n",
       "      <td>66.2</td>\n",
       "      <td>54.3</td>\n",
       "      <td>2337</td>\n",
       "      <td>109</td>\n",
       "      <td>3.19</td>\n",
       "      <td>3.40</td>\n",
       "      <td>10.0</td>\n",
       "      <td>102.0</td>\n",
       "      <td>5500.0</td>\n",
       "      <td>24</td>\n",
       "      <td>30</td>\n",
       "      <td>13950</td>\n",
       "    </tr>\n",
       "    <tr>\n",
       "      <th>4</th>\n",
       "      <td>gas</td>\n",
       "      <td>99.4</td>\n",
       "      <td>176.6</td>\n",
       "      <td>66.4</td>\n",
       "      <td>54.3</td>\n",
       "      <td>2824</td>\n",
       "      <td>136</td>\n",
       "      <td>3.19</td>\n",
       "      <td>3.40</td>\n",
       "      <td>8.0</td>\n",
       "      <td>115.0</td>\n",
       "      <td>5500.0</td>\n",
       "      <td>18</td>\n",
       "      <td>22</td>\n",
       "      <td>17450</td>\n",
       "    </tr>\n",
       "  </tbody>\n",
       "</table>\n",
       "</div>"
      ],
      "text/plain": [
       "  fuel_type  wheel_base  length  width  heights  curb_weight  engine_size  \\\n",
       "0       gas        88.6   168.8   64.1     48.8         2548          130   \n",
       "1       gas        88.6   168.8   64.1     48.8         2548          130   \n",
       "2       gas        94.5   171.2   65.5     52.4         2823          152   \n",
       "3       gas        99.8   176.6   66.2     54.3         2337          109   \n",
       "4       gas        99.4   176.6   66.4     54.3         2824          136   \n",
       "\n",
       "   bore  stroke  compression  horse_power  peak_rpm  city_mpg  highway_mpg  \\\n",
       "0  3.47    2.68          9.0        111.0    5000.0        21           27   \n",
       "1  3.47    2.68          9.0        111.0    5000.0        21           27   \n",
       "2  2.68    3.47          9.0        154.0    5000.0        19           26   \n",
       "3  3.19    3.40         10.0        102.0    5500.0        24           30   \n",
       "4  3.19    3.40          8.0        115.0    5500.0        18           22   \n",
       "\n",
       "   price  \n",
       "0  13495  \n",
       "1  16500  \n",
       "2  16500  \n",
       "3  13950  \n",
       "4  17450  "
      ]
     },
     "execution_count": 66,
     "metadata": {},
     "output_type": "execute_result"
    }
   ],
   "source": [
    "df2.head()"
   ]
  },
  {
   "cell_type": "markdown",
   "id": "60b60b32",
   "metadata": {},
   "source": [
    "### Are there any null (NA) values in the data? If so, drop them and confirm they are gone"
   ]
  },
  {
   "cell_type": "code",
   "execution_count": 67,
   "id": "e8b2f1a8",
   "metadata": {},
   "outputs": [
    {
     "data": {
      "text/plain": [
       "fuel_type      0\n",
       "wheel_base     0\n",
       "length         0\n",
       "width          0\n",
       "heights        0\n",
       "curb_weight    0\n",
       "engine_size    0\n",
       "bore           4\n",
       "stroke         4\n",
       "compression    0\n",
       "horse_power    2\n",
       "peak_rpm       2\n",
       "city_mpg       0\n",
       "highway_mpg    0\n",
       "price          0\n",
       "dtype: int64"
      ]
     },
     "execution_count": 67,
     "metadata": {},
     "output_type": "execute_result"
    }
   ],
   "source": [
    "df2.isnull().sum()"
   ]
  },
  {
   "cell_type": "code",
   "execution_count": 68,
   "id": "bf441ed9",
   "metadata": {},
   "outputs": [],
   "source": [
    "df2=df2.dropna()"
   ]
  },
  {
   "cell_type": "code",
   "execution_count": 69,
   "id": "6b17f7c0",
   "metadata": {},
   "outputs": [
    {
     "data": {
      "text/plain": [
       "fuel_type      0\n",
       "wheel_base     0\n",
       "length         0\n",
       "width          0\n",
       "heights        0\n",
       "curb_weight    0\n",
       "engine_size    0\n",
       "bore           0\n",
       "stroke         0\n",
       "compression    0\n",
       "horse_power    0\n",
       "peak_rpm       0\n",
       "city_mpg       0\n",
       "highway_mpg    0\n",
       "price          0\n",
       "dtype: int64"
      ]
     },
     "execution_count": 69,
     "metadata": {},
     "output_type": "execute_result"
    }
   ],
   "source": [
    "df2.isnull().sum()"
   ]
  },
  {
   "cell_type": "markdown",
   "id": "a6bd6b5c",
   "metadata": {},
   "source": [
    "### Replace ['gas', 'diesel'] string values with [0, 1]"
   ]
  },
  {
   "cell_type": "code",
   "execution_count": 70,
   "id": "6c00a688",
   "metadata": {},
   "outputs": [
    {
     "data": {
      "text/html": [
       "<div>\n",
       "<style scoped>\n",
       "    .dataframe tbody tr th:only-of-type {\n",
       "        vertical-align: middle;\n",
       "    }\n",
       "\n",
       "    .dataframe tbody tr th {\n",
       "        vertical-align: top;\n",
       "    }\n",
       "\n",
       "    .dataframe thead th {\n",
       "        text-align: right;\n",
       "    }\n",
       "</style>\n",
       "<table border=\"1\" class=\"dataframe\">\n",
       "  <thead>\n",
       "    <tr style=\"text-align: right;\">\n",
       "      <th></th>\n",
       "      <th>fuel_type</th>\n",
       "      <th>wheel_base</th>\n",
       "      <th>length</th>\n",
       "      <th>width</th>\n",
       "      <th>heights</th>\n",
       "      <th>curb_weight</th>\n",
       "      <th>engine_size</th>\n",
       "      <th>bore</th>\n",
       "      <th>stroke</th>\n",
       "      <th>compression</th>\n",
       "      <th>horse_power</th>\n",
       "      <th>peak_rpm</th>\n",
       "      <th>city_mpg</th>\n",
       "      <th>highway_mpg</th>\n",
       "      <th>price</th>\n",
       "    </tr>\n",
       "  </thead>\n",
       "  <tbody>\n",
       "    <tr>\n",
       "      <th>0</th>\n",
       "      <td>0</td>\n",
       "      <td>88.6</td>\n",
       "      <td>168.8</td>\n",
       "      <td>64.1</td>\n",
       "      <td>48.8</td>\n",
       "      <td>2548</td>\n",
       "      <td>130</td>\n",
       "      <td>3.47</td>\n",
       "      <td>2.68</td>\n",
       "      <td>9.0</td>\n",
       "      <td>111.0</td>\n",
       "      <td>5000.0</td>\n",
       "      <td>21</td>\n",
       "      <td>27</td>\n",
       "      <td>13495</td>\n",
       "    </tr>\n",
       "    <tr>\n",
       "      <th>1</th>\n",
       "      <td>0</td>\n",
       "      <td>88.6</td>\n",
       "      <td>168.8</td>\n",
       "      <td>64.1</td>\n",
       "      <td>48.8</td>\n",
       "      <td>2548</td>\n",
       "      <td>130</td>\n",
       "      <td>3.47</td>\n",
       "      <td>2.68</td>\n",
       "      <td>9.0</td>\n",
       "      <td>111.0</td>\n",
       "      <td>5000.0</td>\n",
       "      <td>21</td>\n",
       "      <td>27</td>\n",
       "      <td>16500</td>\n",
       "    </tr>\n",
       "    <tr>\n",
       "      <th>2</th>\n",
       "      <td>0</td>\n",
       "      <td>94.5</td>\n",
       "      <td>171.2</td>\n",
       "      <td>65.5</td>\n",
       "      <td>52.4</td>\n",
       "      <td>2823</td>\n",
       "      <td>152</td>\n",
       "      <td>2.68</td>\n",
       "      <td>3.47</td>\n",
       "      <td>9.0</td>\n",
       "      <td>154.0</td>\n",
       "      <td>5000.0</td>\n",
       "      <td>19</td>\n",
       "      <td>26</td>\n",
       "      <td>16500</td>\n",
       "    </tr>\n",
       "    <tr>\n",
       "      <th>3</th>\n",
       "      <td>0</td>\n",
       "      <td>99.8</td>\n",
       "      <td>176.6</td>\n",
       "      <td>66.2</td>\n",
       "      <td>54.3</td>\n",
       "      <td>2337</td>\n",
       "      <td>109</td>\n",
       "      <td>3.19</td>\n",
       "      <td>3.40</td>\n",
       "      <td>10.0</td>\n",
       "      <td>102.0</td>\n",
       "      <td>5500.0</td>\n",
       "      <td>24</td>\n",
       "      <td>30</td>\n",
       "      <td>13950</td>\n",
       "    </tr>\n",
       "    <tr>\n",
       "      <th>4</th>\n",
       "      <td>0</td>\n",
       "      <td>99.4</td>\n",
       "      <td>176.6</td>\n",
       "      <td>66.4</td>\n",
       "      <td>54.3</td>\n",
       "      <td>2824</td>\n",
       "      <td>136</td>\n",
       "      <td>3.19</td>\n",
       "      <td>3.40</td>\n",
       "      <td>8.0</td>\n",
       "      <td>115.0</td>\n",
       "      <td>5500.0</td>\n",
       "      <td>18</td>\n",
       "      <td>22</td>\n",
       "      <td>17450</td>\n",
       "    </tr>\n",
       "    <tr>\n",
       "      <th>...</th>\n",
       "      <td>...</td>\n",
       "      <td>...</td>\n",
       "      <td>...</td>\n",
       "      <td>...</td>\n",
       "      <td>...</td>\n",
       "      <td>...</td>\n",
       "      <td>...</td>\n",
       "      <td>...</td>\n",
       "      <td>...</td>\n",
       "      <td>...</td>\n",
       "      <td>...</td>\n",
       "      <td>...</td>\n",
       "      <td>...</td>\n",
       "      <td>...</td>\n",
       "      <td>...</td>\n",
       "    </tr>\n",
       "    <tr>\n",
       "      <th>196</th>\n",
       "      <td>0</td>\n",
       "      <td>109.1</td>\n",
       "      <td>188.8</td>\n",
       "      <td>68.9</td>\n",
       "      <td>55.5</td>\n",
       "      <td>2952</td>\n",
       "      <td>141</td>\n",
       "      <td>3.78</td>\n",
       "      <td>3.15</td>\n",
       "      <td>9.5</td>\n",
       "      <td>114.0</td>\n",
       "      <td>5400.0</td>\n",
       "      <td>23</td>\n",
       "      <td>28</td>\n",
       "      <td>16845</td>\n",
       "    </tr>\n",
       "    <tr>\n",
       "      <th>197</th>\n",
       "      <td>0</td>\n",
       "      <td>109.1</td>\n",
       "      <td>188.8</td>\n",
       "      <td>68.8</td>\n",
       "      <td>55.5</td>\n",
       "      <td>3049</td>\n",
       "      <td>141</td>\n",
       "      <td>3.78</td>\n",
       "      <td>3.15</td>\n",
       "      <td>8.7</td>\n",
       "      <td>160.0</td>\n",
       "      <td>5300.0</td>\n",
       "      <td>19</td>\n",
       "      <td>25</td>\n",
       "      <td>19045</td>\n",
       "    </tr>\n",
       "    <tr>\n",
       "      <th>198</th>\n",
       "      <td>0</td>\n",
       "      <td>109.1</td>\n",
       "      <td>188.8</td>\n",
       "      <td>68.9</td>\n",
       "      <td>55.5</td>\n",
       "      <td>3012</td>\n",
       "      <td>173</td>\n",
       "      <td>3.58</td>\n",
       "      <td>2.87</td>\n",
       "      <td>8.8</td>\n",
       "      <td>134.0</td>\n",
       "      <td>5500.0</td>\n",
       "      <td>18</td>\n",
       "      <td>23</td>\n",
       "      <td>21485</td>\n",
       "    </tr>\n",
       "    <tr>\n",
       "      <th>199</th>\n",
       "      <td>1</td>\n",
       "      <td>109.1</td>\n",
       "      <td>188.8</td>\n",
       "      <td>68.9</td>\n",
       "      <td>55.5</td>\n",
       "      <td>3217</td>\n",
       "      <td>145</td>\n",
       "      <td>3.01</td>\n",
       "      <td>3.40</td>\n",
       "      <td>23.0</td>\n",
       "      <td>106.0</td>\n",
       "      <td>4800.0</td>\n",
       "      <td>26</td>\n",
       "      <td>27</td>\n",
       "      <td>22470</td>\n",
       "    </tr>\n",
       "    <tr>\n",
       "      <th>200</th>\n",
       "      <td>0</td>\n",
       "      <td>109.1</td>\n",
       "      <td>188.8</td>\n",
       "      <td>68.9</td>\n",
       "      <td>55.5</td>\n",
       "      <td>3062</td>\n",
       "      <td>141</td>\n",
       "      <td>3.78</td>\n",
       "      <td>3.15</td>\n",
       "      <td>9.5</td>\n",
       "      <td>114.0</td>\n",
       "      <td>5400.0</td>\n",
       "      <td>19</td>\n",
       "      <td>25</td>\n",
       "      <td>22625</td>\n",
       "    </tr>\n",
       "  </tbody>\n",
       "</table>\n",
       "<p>195 rows × 15 columns</p>\n",
       "</div>"
      ],
      "text/plain": [
       "     fuel_type  wheel_base  length  width  heights  curb_weight  engine_size  \\\n",
       "0            0        88.6   168.8   64.1     48.8         2548          130   \n",
       "1            0        88.6   168.8   64.1     48.8         2548          130   \n",
       "2            0        94.5   171.2   65.5     52.4         2823          152   \n",
       "3            0        99.8   176.6   66.2     54.3         2337          109   \n",
       "4            0        99.4   176.6   66.4     54.3         2824          136   \n",
       "..         ...         ...     ...    ...      ...          ...          ...   \n",
       "196          0       109.1   188.8   68.9     55.5         2952          141   \n",
       "197          0       109.1   188.8   68.8     55.5         3049          141   \n",
       "198          0       109.1   188.8   68.9     55.5         3012          173   \n",
       "199          1       109.1   188.8   68.9     55.5         3217          145   \n",
       "200          0       109.1   188.8   68.9     55.5         3062          141   \n",
       "\n",
       "     bore  stroke  compression  horse_power  peak_rpm  city_mpg  highway_mpg  \\\n",
       "0    3.47    2.68          9.0        111.0    5000.0        21           27   \n",
       "1    3.47    2.68          9.0        111.0    5000.0        21           27   \n",
       "2    2.68    3.47          9.0        154.0    5000.0        19           26   \n",
       "3    3.19    3.40         10.0        102.0    5500.0        24           30   \n",
       "4    3.19    3.40          8.0        115.0    5500.0        18           22   \n",
       "..    ...     ...          ...          ...       ...       ...          ...   \n",
       "196  3.78    3.15          9.5        114.0    5400.0        23           28   \n",
       "197  3.78    3.15          8.7        160.0    5300.0        19           25   \n",
       "198  3.58    2.87          8.8        134.0    5500.0        18           23   \n",
       "199  3.01    3.40         23.0        106.0    4800.0        26           27   \n",
       "200  3.78    3.15          9.5        114.0    5400.0        19           25   \n",
       "\n",
       "     price  \n",
       "0    13495  \n",
       "1    16500  \n",
       "2    16500  \n",
       "3    13950  \n",
       "4    17450  \n",
       "..     ...  \n",
       "196  16845  \n",
       "197  19045  \n",
       "198  21485  \n",
       "199  22470  \n",
       "200  22625  \n",
       "\n",
       "[195 rows x 15 columns]"
      ]
     },
     "execution_count": 70,
     "metadata": {},
     "output_type": "execute_result"
    }
   ],
   "source": [
    "df2.fuel_type.replace(to_replace=['gas', 'diesel'], value=[0, 1], inplace=True)\n",
    "df2"
   ]
  },
  {
   "cell_type": "markdown",
   "id": "fe9f4ee2",
   "metadata": {},
   "source": [
    "### Define your X and y: your dependent variable is fuel_type, the rest of the variables are your independent variables"
   ]
  },
  {
   "cell_type": "code",
   "execution_count": 71,
   "id": "2cdfd540",
   "metadata": {},
   "outputs": [],
   "source": [
    "## your code goes here\n",
    "X=df2.drop(['fuel_type'], axis=1)\n",
    "y = df2['fuel_type']"
   ]
  },
  {
   "cell_type": "markdown",
   "id": "2b7c8894",
   "metadata": {},
   "source": [
    "### Split your data into training and testing set. Use test_size=0.3, random_state=746"
   ]
  },
  {
   "cell_type": "code",
   "execution_count": 72,
   "id": "2ebbb798",
   "metadata": {},
   "outputs": [],
   "source": [
    "X_train, X_test, y_train, y_test = train_test_split(X, y, test_size=0.3, random_state=746)"
   ]
  },
  {
   "cell_type": "code",
   "execution_count": 73,
   "id": "0738cde2",
   "metadata": {},
   "outputs": [
    {
     "name": "stdout",
     "output_type": "stream",
     "text": [
      "Counter({0: 50, 1: 9})\n"
     ]
    }
   ],
   "source": [
    "counter2 = Counter(y_test)\n",
    "print(counter2)"
   ]
  },
  {
   "cell_type": "markdown",
   "id": "a409ac82",
   "metadata": {},
   "source": [
    "## 1. Use Logistic regression to classify your data. Print/report your confusion matrix, classification report and AUC"
   ]
  },
  {
   "cell_type": "code",
   "execution_count": 74,
   "id": "11198851",
   "metadata": {},
   "outputs": [
    {
     "name": "stdout",
     "output_type": "stream",
     "text": [
      "CONFUSION MATRIX:\n",
      "[[50  0]\n",
      " [ 0  9]]\n",
      "CLASSIFICATION REPORT:\n",
      "              precision    recall  f1-score   support\n",
      "\n",
      "           0       1.00      1.00      1.00        50\n",
      "           1       1.00      1.00      1.00         9\n",
      "\n",
      "    accuracy                           1.00        59\n",
      "   macro avg       1.00      1.00      1.00        59\n",
      "weighted avg       1.00      1.00      1.00        59\n",
      "\n",
      "AUC SCORE: 1.0\n"
     ]
    }
   ],
   "source": [
    "#Code goes here\n",
    "#logistic regression\n",
    "# Create a logistic regression model\n",
    "logistic_regression = LogisticRegression(solver='liblinear')\n",
    "\n",
    "# Fit the model on the training data\n",
    "logistic_regression.fit(X_train, y_train)\n",
    "\n",
    "# Predict the labels of the testing data\n",
    "y_prediction = logistic_regression.predict(X_test)\n",
    "\n",
    "# Compute and print the confusion matrix\n",
    "c_matrix = confusion_matrix(y_test, y_prediction)\n",
    "print(\"CONFUSION MATRIX:\")\n",
    "print(c_matrix)\n",
    "\n",
    "# Compute and print the classification report\n",
    "c_report = classification_report(y_test, y_prediction)\n",
    "print(\"CLASSIFICATION REPORT:\")\n",
    "print(c_report)\n",
    "\n",
    "# Compute and print the AUC score\n",
    "auc = roc_auc_score(y_test, y_prediction)\n",
    "print(\"AUC SCORE:\", auc)"
   ]
  },
  {
   "cell_type": "markdown",
   "id": "ed5215d6",
   "metadata": {},
   "source": [
    "## 2. Use Naive Bayes to classify your data. Print/report your confusion matrix, classification report and AUC"
   ]
  },
  {
   "cell_type": "code",
   "execution_count": 75,
   "id": "7dc391ad",
   "metadata": {},
   "outputs": [
    {
     "name": "stdout",
     "output_type": "stream",
     "text": [
      "Confusion Matrix:\n",
      "[[50  0]\n",
      " [ 0  9]]\n",
      "Classification Report:\n",
      "              precision    recall  f1-score   support\n",
      "\n",
      "           0       1.00      1.00      1.00        50\n",
      "           1       1.00      1.00      1.00         9\n",
      "\n",
      "    accuracy                           1.00        59\n",
      "   macro avg       1.00      1.00      1.00        59\n",
      "weighted avg       1.00      1.00      1.00        59\n",
      "\n",
      "AUC Score: 1.0\n"
     ]
    }
   ],
   "source": [
    "#Code goes here\n",
    "#Naive Bayes\n",
    "# Create a Gaussian Naive Bayes model\n",
    "naive_bayes = GaussianNB()\n",
    "\n",
    "# Fit the model on the training data\n",
    "naive_bayes.fit(X_train, y_train)\n",
    "\n",
    "# Predict the labels of the testing data\n",
    "y_prediction = naive_bayes.predict(X_test)\n",
    "\n",
    "# Compute and print the confusion matrix\n",
    "c_matrix = confusion_matrix(y_test, y_prediction)\n",
    "print(\"Confusion Matrix:\")\n",
    "print(c_matrix)\n",
    "\n",
    "# Compute and print the classification report\n",
    "c_report = classification_report(y_test, y_prediction)\n",
    "print(\"Classification Report:\")\n",
    "print(c_report)\n",
    "\n",
    "# Compute and print the AUC score\n",
    "auc = roc_auc_score(y_test, y_prediction)\n",
    "print(\"AUC Score:\", auc)\n"
   ]
  },
  {
   "cell_type": "markdown",
   "id": "9876883a",
   "metadata": {},
   "source": [
    "## 3. Use a Support Vector Machine Classifier to classify your data.  Print/report your confusion matrix, classification report and AUC."
   ]
  },
  {
   "cell_type": "code",
   "execution_count": 76,
   "id": "6f5e21d6",
   "metadata": {},
   "outputs": [
    {
     "name": "stdout",
     "output_type": "stream",
     "text": [
      "Confusion Matrix:\n",
      "[[50  0]\n",
      " [ 0  9]]\n",
      "Classification Report:\n",
      "              precision    recall  f1-score   support\n",
      "\n",
      "           0       1.00      1.00      1.00        50\n",
      "           1       1.00      1.00      1.00         9\n",
      "\n",
      "    accuracy                           1.00        59\n",
      "   macro avg       1.00      1.00      1.00        59\n",
      "weighted avg       1.00      1.00      1.00        59\n",
      "\n",
      "AUC Score: 1.0\n"
     ]
    }
   ],
   "source": [
    "#Code goes here\n",
    "# SVC\n",
    "# Create an SVM classifier with a linear kernel\n",
    "svm_classifier = SVC(kernel='linear')\n",
    "\n",
    "# Fit the classifier on the training data\n",
    "svm_classifier.fit(X_train, y_train)\n",
    "\n",
    "# Predict the labels of the testing data\n",
    "y_prediction = svm_classifier.predict(X_test)\n",
    "\n",
    "# Compute and print the confusion matrix\n",
    "c_matrix = confusion_matrix(y_test, y_prediction)\n",
    "print(\"Confusion Matrix:\")\n",
    "print(c_matrix)\n",
    "\n",
    "# Compute and print the classification report\n",
    "c_report = classification_report(y_test, y_prediction)\n",
    "print(\"Classification Report:\")\n",
    "print(c_report)\n",
    "\n",
    "# Compute and print the AUC score\n",
    "auc = roc_auc_score(y_test, y_prediction)\n",
    "print(\"AUC Score:\", auc)\n"
   ]
  },
  {
   "cell_type": "markdown",
   "id": "6e94e46d",
   "metadata": {},
   "source": [
    "## 4. Use KNN to classify your data. First find the optimal k and than run your classification. Print/report your confusion matrix, classification report and AUC"
   ]
  },
  {
   "cell_type": "code",
   "execution_count": 77,
   "id": "8479d988",
   "metadata": {},
   "outputs": [
    {
     "data": {
      "image/png": "[encoded data removed]",
      "text/plain": [
       "<Figure size 1000x600 with 1 Axes>"
      ]
     },
     "metadata": {},
     "output_type": "display_data"
    }
   ],
   "source": [
    "#Code goes here\n",
    "#KNN - find optimal K\n",
    "# Initialize an array that stores the error rates.\n",
    "error_rates = []\n",
    "\n",
    "for a in range(1, 30):\n",
    "    k = a\n",
    "    knn = KNeighborsClassifier(n_neighbors=k)\n",
    "    knn.fit(X_train, y_train)\n",
    "    preds = knn.predict(X_test)\n",
    "    error_rates.append(np.mean(y_test - preds))\n",
    "    \n",
    "#plot error rates against number of neighbors\n",
    "plt.figure(figsize=(10, 6))\n",
    "plt.plot(range(1,30),error_rates,color='blue', linestyle='dashed', marker='o',\n",
    "         markerfacecolor='red', markersize=10)\n",
    "plt.title('Error Rate vs. K Value')\n",
    "plt.xlabel('K')\n",
    "plt.ylabel('Error Rate')\n",
    "plt.savefig('knn.png')\n",
    "plt.show()"
   ]
  },
  {
   "cell_type": "code",
   "execution_count": 78,
   "id": "cdb6475a",
   "metadata": {},
   "outputs": [
    {
     "name": "stdout",
     "output_type": "stream",
     "text": [
      "Confusion Matrix:\n",
      "[[49  1]\n",
      " [ 6  3]]\n",
      "Classification Report:\n",
      "              precision    recall  f1-score   support\n",
      "\n",
      "           0       0.89      0.98      0.93        50\n",
      "           1       0.75      0.33      0.46         9\n",
      "\n",
      "    accuracy                           0.88        59\n",
      "   macro avg       0.82      0.66      0.70        59\n",
      "weighted avg       0.87      0.88      0.86        59\n",
      "\n",
      "AUC Score: 0.6566666666666666\n"
     ]
    }
   ],
   "source": [
    "#Code goes here\n",
    "#Train classifier on the optimal k that we chose from the plot\n",
    "# Create a KNN classifier with the optimal k value\n",
    "knn_classifier = KNeighborsClassifier(n_neighbors= 3)\n",
    "\n",
    "# Fit the classifier on the training data\n",
    "knn_classifier.fit(X_train, y_train)\n",
    "\n",
    "# Predict the labels of the testing data\n",
    "y_prediction = knn_classifier.predict(X_test)\n",
    "\n",
    "# Compute and print the confusion matrix\n",
    "c_matrix = confusion_matrix(y_test, y_prediction)\n",
    "print(\"Confusion Matrix:\")\n",
    "print(c_matrix)\n",
    "\n",
    "# Compute and print the classification report\n",
    "c_report = classification_report(y_test, y_prediction)\n",
    "print(\"Classification Report:\")\n",
    "print(c_report)\n",
    "\n",
    "# Compute and print the AUC score\n",
    "auc = roc_auc_score(y_test, y_prediction)\n",
    "print(\"AUC Score:\", auc)"
   ]
  },
  {
   "cell_type": "markdown",
   "id": "b86d8dee",
   "metadata": {},
   "source": [
    "## 5. Use Random Forest to classify your data. Print/report your confusion matrix, classification report and AUC\n",
    "\n",
    "NOTE: This can take several seconds to train. Be patient."
   ]
  },
  {
   "cell_type": "code",
   "execution_count": 79,
   "id": "9018356b",
   "metadata": {},
   "outputs": [],
   "source": [
    "#Code goes here\n",
    "# random forest\n",
    "# Create a Random Forest classifier with 100 trees\n",
    "rf_classifier = RandomForestClassifier(n_estimators=100, random_state=746)\n",
    "\n",
    "# Fit the classifier on the training data\n",
    "rf_classifier.fit(X_train, y_train)\n",
    "\n",
    "# Predict the labels of the testing data\n",
    "y_prediction = rf_classifier.predict(X_test)"
   ]
  },
  {
   "cell_type": "code",
   "execution_count": 80,
   "id": "d9a08d61",
   "metadata": {},
   "outputs": [
    {
     "name": "stdout",
     "output_type": "stream",
     "text": [
      "Confusion Matrix:\n",
      "[[50  0]\n",
      " [ 0  9]]\n",
      "Classification Report:\n",
      "              precision    recall  f1-score   support\n",
      "\n",
      "           0       1.00      1.00      1.00        50\n",
      "           1       1.00      1.00      1.00         9\n",
      "\n",
      "    accuracy                           1.00        59\n",
      "   macro avg       1.00      1.00      1.00        59\n",
      "weighted avg       1.00      1.00      1.00        59\n",
      "\n",
      "AUC Score: 1.0\n"
     ]
    }
   ],
   "source": [
    "#Random forest reports\n",
    "# Compute and print the confusion matrix\n",
    "c_matrix = confusion_matrix(y_test, y_prediction)\n",
    "print(\"Confusion Matrix:\")\n",
    "print(c_matrix)\n",
    "\n",
    "# Compute and print the classification report\n",
    "c_report = classification_report(y_test, y_prediction)\n",
    "print(\"Classification Report:\")\n",
    "print(c_report)\n",
    "\n",
    "# Compute and print the AUC score\n",
    "auc = roc_auc_score(y_test, y_prediction)\n",
    "print(\"AUC Score:\", auc)"
   ]
  },
  {
   "cell_type": "markdown",
   "id": "df4351a0",
   "metadata": {},
   "source": [
    "## 6. Which models performed best with this data set? Which performed worst? Which metric did you use for your criterion?"
   ]
  },
  {
   "cell_type": "markdown",
   "id": "1823ce0f",
   "metadata": {},
   "source": [
    "The model should, in general, have a low amount of false positives and false negatives, or high precision and recall values. When the class distribution is unbalanced, the F1-score is a useful metric to utilize because it accounts for both recall and precision. As a result, the classification model is performing well when the precision, recall, and F1-score values are at their greatest points. Yet, the accuracy of every model, with the exception of KNN, which has an accuracy of 0.88, is 1.00.\n"
   ]
  },
  {
   "cell_type": "markdown",
   "id": "2dadfc71",
   "metadata": {},
   "source": [
    "All the models except KNN with accuracy of 0.88 have 1.00 as the accuracy. Which can mean:\n",
    "\n",
    "   1.The models are overfitting the training data: If the models are sophisticated and contain numerous                parameters, they may be overfitting the training data and failing to generalize well to new, unseen data.          This can also lead to over-optimistic evaluation outcomes on training and test data.\n",
    "   2.The test data is too easy:If the test data is substantially similar to the training data, or if the \n",
    "   problem is  relatively simple and can be solved with a few rules, even simple models can produce excellent          classification results.\n",
    "   3.There is a bug in the code: I see no bug here\n",
    "      \n",
    "It is important to note that perfect classification results on a test set are extremely unusual in practice and usually signal that there is a problem with the model or the data. To acquire a more accurate estimate of the model's performance, it's always a good idea to double-check the data and the model, and to consider utilizing more robust evaluation approaches, such as cross-validation or bootstrapping."
   ]
  },
  {
   "cell_type": "markdown",
   "id": "0ffaa9e1",
   "metadata": {},
   "source": [
    "## 7. The target data (fuel_type) is imbalanced. Display a bar chart showing this imbalance."
   ]
  },
  {
   "cell_type": "code",
   "execution_count": 81,
   "id": "c7e21f81",
   "metadata": {},
   "outputs": [
    {
     "data": {
      "image/png": "[encoded data removed]",
      "text/plain": [
       "<Figure size 640x480 with 1 Axes>"
      ]
     },
     "metadata": {},
     "output_type": "display_data"
    }
   ],
   "source": [
    "# Bar chart code goes here \n",
    "# get the count of each class in the fuel_type column\n",
    "fuel_counts = df['fuel_type'].value_counts()\n",
    "\n",
    "# plot a bar chart of the fuel type counts with counts displayed on top of each bar\n",
    "ax = fuel_counts.plot(kind='bar')\n",
    "plt.title('Distribution of Fuel Type')\n",
    "plt.xlabel('Fuel Type')\n",
    "plt.ylabel('Count')\n",
    "\n",
    "# add counts on top of each bar\n",
    "for i in ax.containers:\n",
    "    ax.bar_label(i, label_type='edge', fontsize=12)\n",
    "\n",
    "plt.show()"
   ]
  },
  {
   "cell_type": "markdown",
   "id": "1197f658",
   "metadata": {},
   "source": [
    "Yes, the dataset is unbalanced because the number of cases in the two classes differs significantly.In such instances, the classification model may be biased toward the majority class while underperforming on the minority class. This is why the classification model is incorrectly classifying. Diesel accounts for only 9% of the total statistics.\n",
    "\n",
    "The majority of machine learning algorithms were built on the assumption of an equal number of samples for each class. Models have low predictive performance, particularly for minorities."
   ]
  },
  {
   "cell_type": "markdown",
   "id": "444a9db9",
   "metadata": {},
   "source": [
    "## 8. Fix the imbalanced nature of the data using one of the methods discussed in class. Re-run one of the \"failed\" classification methods with the balanced data set and see if you get better results."
   ]
  },
  {
   "cell_type": "code",
   "execution_count": 82,
   "id": "6f5ad6eb",
   "metadata": {},
   "outputs": [],
   "source": [
    "#Fix imbalance. Code goes here.\n",
    "from numpy import where\n",
    "from sklearn.datasets import make_classification\n",
    "from collections import Counter\n",
    "from matplotlib import pyplot\n",
    "\n",
    "# Generate an imbalanced classification dataset\n",
    "X, y = make_classification(n_samples=400, n_features=14, weights=[0.5, 0.5], random_state=42)"
   ]
  },
  {
   "cell_type": "code",
   "execution_count": 83,
   "id": "63698022",
   "metadata": {},
   "outputs": [
    {
     "name": "stdout",
     "output_type": "stream",
     "text": [
      "Counter({1: 202, 0: 198})\n"
     ]
    }
   ],
   "source": [
    "# Print the count of each class\n",
    "counter = Counter(y)\n",
    "print(counter)"
   ]
  },
  {
   "cell_type": "code",
   "execution_count": 84,
   "id": "d8d15b1b",
   "metadata": {},
   "outputs": [],
   "source": [
    "# Split the dataset into training and test sets\n",
    "X_train, X_test, y_train, y_test = train_test_split(X, y, test_size=0.3, random_state=42)"
   ]
  },
  {
   "cell_type": "markdown",
   "id": "ca9a2464",
   "metadata": {},
   "source": [
    "### logistic regression model"
   ]
  },
  {
   "cell_type": "code",
   "execution_count": 85,
   "id": "26e226bb",
   "metadata": {},
   "outputs": [
    {
     "name": "stdout",
     "output_type": "stream",
     "text": [
      "CONFUSION MATRIX:\n",
      "[[50  7]\n",
      " [ 6 57]]\n",
      "CLASSIFICATION REPORT:\n",
      "              precision    recall  f1-score   support\n",
      "\n",
      "           0       0.89      0.88      0.88        57\n",
      "           1       0.89      0.90      0.90        63\n",
      "\n",
      "    accuracy                           0.89       120\n",
      "   macro avg       0.89      0.89      0.89       120\n",
      "weighted avg       0.89      0.89      0.89       120\n",
      "\n",
      "AUC SCORE: 0.8909774436090226\n"
     ]
    }
   ],
   "source": [
    "# Create a logistic regression model\n",
    "logisticreg = LogisticRegression(solver='liblinear')\n",
    "\n",
    "# Fit the model on the training data\n",
    "logisticreg.fit(X_train, y_train)\n",
    "\n",
    "# Predict the labels of the testing data\n",
    "y_prediction = logisticreg.predict(X_test)\n",
    "\n",
    "# Compute and print the confusion matrix\n",
    "c_matrix = confusion_matrix(y_test, y_prediction)\n",
    "print(\"CONFUSION MATRIX:\")\n",
    "print(c_matrix)\n",
    "\n",
    "# Compute and print the classification report\n",
    "c_report = classification_report(y_test, y_prediction)\n",
    "print(\"CLASSIFICATION REPORT:\")\n",
    "print(c_report)\n",
    "\n",
    "# Compute and print the AUC score\n",
    "auc = roc_auc_score(y_test, y_prediction)\n",
    "print(\"AUC SCORE:\", auc)"
   ]
  },
  {
   "cell_type": "markdown",
   "id": "bdfb518a",
   "metadata": {},
   "source": [
    "### Gaussian Naive Bayes model"
   ]
  },
  {
   "cell_type": "code",
   "execution_count": 86,
   "id": "b064448e",
   "metadata": {},
   "outputs": [
    {
     "name": "stdout",
     "output_type": "stream",
     "text": [
      "Confusion Matrix:\n",
      "[[51  6]\n",
      " [ 5 58]]\n",
      "Classification Report:\n",
      "              precision    recall  f1-score   support\n",
      "\n",
      "           0       0.91      0.89      0.90        57\n",
      "           1       0.91      0.92      0.91        63\n",
      "\n",
      "    accuracy                           0.91       120\n",
      "   macro avg       0.91      0.91      0.91       120\n",
      "weighted avg       0.91      0.91      0.91       120\n",
      "\n",
      "AUC Score: 0.9076858813700919\n"
     ]
    }
   ],
   "source": [
    "# Create a Gaussian Naive Bayes model\n",
    "naivebayes = GaussianNB()\n",
    "\n",
    "# Fit the model on the training data\n",
    "naivebayes.fit(X_train, y_train)\n",
    "\n",
    "# Predict the labels of the testing data\n",
    "y_prediction = naivebayes.predict(X_test)\n",
    "\n",
    "# Compute and print the confusion matrix\n",
    "c_matrix = confusion_matrix(y_test, y_prediction)\n",
    "print(\"Confusion Matrix:\")\n",
    "print(c_matrix)\n",
    "\n",
    "# Compute and print the classification report\n",
    "c_report = classification_report(y_test, y_prediction)\n",
    "print(\"Classification Report:\")\n",
    "print(c_report)\n",
    "\n",
    "# Compute and print the AUC score\n",
    "auc = roc_auc_score(y_test, y_prediction)\n",
    "print(\"AUC Score:\", auc)"
   ]
  },
  {
   "cell_type": "markdown",
   "id": "bea1e544",
   "metadata": {},
   "source": [
    "### SVM classifier with a linear kernel"
   ]
  },
  {
   "cell_type": "code",
   "execution_count": 87,
   "id": "9adabb1a",
   "metadata": {},
   "outputs": [
    {
     "name": "stdout",
     "output_type": "stream",
     "text": [
      "Confusion Matrix:\n",
      "[[50  7]\n",
      " [ 6 57]]\n",
      "Classification Report:\n",
      "              precision    recall  f1-score   support\n",
      "\n",
      "           0       0.89      0.88      0.88        57\n",
      "           1       0.89      0.90      0.90        63\n",
      "\n",
      "    accuracy                           0.89       120\n",
      "   macro avg       0.89      0.89      0.89       120\n",
      "weighted avg       0.89      0.89      0.89       120\n",
      "\n",
      "AUC Score: 0.8909774436090226\n"
     ]
    }
   ],
   "source": [
    "# Create an SVM classifier with a linear kernel\n",
    "svm_classifier = SVC(kernel='linear')\n",
    "\n",
    "# Fit the classifier on the training data\n",
    "svm_classifier.fit(X_train, y_train)\n",
    "\n",
    "# Predict the labels of the testing data\n",
    "y_prediction = svm_classifier.predict(X_test)\n",
    "\n",
    "# Compute and print the confusion matrix\n",
    "c_matrix = confusion_matrix(y_test, y_prediction)\n",
    "print(\"Confusion Matrix:\")\n",
    "print(c_matrix)\n",
    "\n",
    "# Compute and print the classification report\n",
    "c_report= classification_report(y_test, y_prediction)\n",
    "print(\"Classification Report:\")\n",
    "print(c_report)\n",
    "\n",
    "# Compute and print the AUC score\n",
    "auc = roc_auc_score(y_test, y_prediction)\n",
    "print(\"AUC Score:\", auc)\n"
   ]
  },
  {
   "cell_type": "markdown",
   "id": "84243f47",
   "metadata": {},
   "source": [
    "### KNN "
   ]
  },
  {
   "cell_type": "code",
   "execution_count": 88,
   "id": "11c9c2f3",
   "metadata": {},
   "outputs": [
    {
     "data": {
      "image/png": "[encoded data removed]",
      "text/plain": [
       "<Figure size 1000x700 with 1 Axes>"
      ]
     },
     "metadata": {},
     "output_type": "display_data"
    },
    {
     "name": "stdout",
     "output_type": "stream",
     "text": [
      "Confusion Matrix:\n",
      "[[51  6]\n",
      " [ 6 57]]\n",
      "Classification Report:\n",
      "              precision    recall  f1-score   support\n",
      "\n",
      "           0       0.89      0.89      0.89        57\n",
      "           1       0.90      0.90      0.90        63\n",
      "\n",
      "    accuracy                           0.90       120\n",
      "   macro avg       0.90      0.90      0.90       120\n",
      "weighted avg       0.90      0.90      0.90       120\n",
      "\n",
      "AUC Score: 0.899749373433584\n"
     ]
    }
   ],
   "source": [
    "# Initialize an array that stores the error rates.\n",
    "error_rates = []\n",
    "\n",
    "for a in range(1, 30):\n",
    "    k = a\n",
    "    knn = KNeighborsClassifier(n_neighbors=k)\n",
    "    knn.fit(X_train, y_train)\n",
    "    preds = knn.predict(X_test)\n",
    "    error_rates.append(np.mean(y_test - preds))\n",
    "    \n",
    "#plot error rates against number of neighbors\n",
    "plt.figure(figsize=(10, 7))\n",
    "plt.plot(range(1,30),error_rates,color='blue', linestyle='dashed', marker='o',\n",
    "         markerfacecolor='red', markersize=10)\n",
    "plt.title('Error Rate vs. K Value')\n",
    "plt.xlabel('K')\n",
    "plt.ylabel('Error Rate')\n",
    "plt.savefig('knn.png')\n",
    "plt.show()\n",
    "\n",
    "#Train classifier on the optimal k that we chose from the plot\n",
    "# Create a KNN classifier with the optimal k value\n",
    "knn_classifier = KNeighborsClassifier(n_neighbors= 13)\n",
    "\n",
    "# Fit the classifier on the training data\n",
    "knn_classifier.fit(X_train, y_train)\n",
    "\n",
    "# Predict the labels of the testing data\n",
    "y_prediction = knn_classifier.predict(X_test)\n",
    "\n",
    "# Compute and print the confusion matrix\n",
    "c_matrix = confusion_matrix(y_test, y_prediction)\n",
    "print(\"Confusion Matrix:\")\n",
    "print(c_matrix)\n",
    "\n",
    "# Compute and print the classification report\n",
    "c_report = classification_report(y_test, y_prediction)\n",
    "print(\"Classification Report:\")\n",
    "print(c_report)\n",
    "\n",
    "# Compute and print the AUC score\n",
    "auc = roc_auc_score(y_test, y_prediction)\n",
    "print(\"AUC Score:\", auc)"
   ]
  },
  {
   "cell_type": "code",
   "execution_count": null,
   "id": "112551ab",
   "metadata": {},
   "outputs": [],
   "source": []
  },
  {
   "cell_type": "code",
   "execution_count": null,
   "id": "1e82c021",
   "metadata": {},
   "outputs": [],
   "source": []
  },
  {
   "cell_type": "code",
   "execution_count": null,
   "id": "e52428fb",
   "metadata": {},
   "outputs": [],
   "source": []
  }
 ],
 "metadata": {
  "kernelspec": {
   "display_name": "Python 3 (ipykernel)",
   "language": "python",
   "name": "python3"
  },
  "language_info": {
   "codemirror_mode": {
    "name": "ipython",
    "version": 3
   },
   "file_extension": ".py",
   "mimetype": "text/x-python",
   "name": "python",
   "nbconvert_exporter": "python",
   "pygments_lexer": "ipython3",
   "version": "3.11.4"
  }
 },
 "nbformat": 4,
 "nbformat_minor": 5
}
